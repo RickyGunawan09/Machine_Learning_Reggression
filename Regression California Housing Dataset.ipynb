{
  "nbformat": 4,
  "nbformat_minor": 0,
  "metadata": {
    "colab": {
      "name": "assignment8_RickyGunawan_Housing.ipynb",
      "provenance": [],
      "collapsed_sections": []
    },
    "kernelspec": {
      "name": "python3",
      "display_name": "Python 3"
    }
  },
  "cells": [
    {
      "cell_type": "code",
      "metadata": {
        "id": "Dy2jtV3xmpvZ",
        "colab_type": "code",
        "colab": {}
      },
      "source": [
        "import pandas as pd\n",
        "import numpy as np\n",
        "import matplotlib.pyplot as plt\n",
        "import os\n",
        "import seaborn as sns\n",
        "from sklearn import preprocessing\n",
        "from sklearn.model_selection import train_test_split"
      ],
      "execution_count": null,
      "outputs": []
    },
    {
      "cell_type": "markdown",
      "metadata": {
        "id": "5OG4LHivnUAn",
        "colab_type": "text"
      },
      "source": [
        "# **Dataset Housing Boston**"
      ]
    },
    {
      "cell_type": "markdown",
      "metadata": {
        "id": "OaKTY-Sk5pdb",
        "colab_type": "text"
      },
      "source": [
        "## **No.1 membandingkan hasil linearregression yang berbeda proses preprosesing**"
      ]
    },
    {
      "cell_type": "code",
      "metadata": {
        "id": "qswTrTzanZeK",
        "colab_type": "code",
        "colab": {
          "base_uri": "https://localhost:8080/",
          "height": 317
        },
        "outputId": "857b7784-3bd9-4458-b096-f3ad88b8f612"
      },
      "source": [
        "dataset = pd.read_csv('/content/drive/My Drive/BCML/datasets/housing.csv')\n",
        "\n",
        "dataset.describe()"
      ],
      "execution_count": null,
      "outputs": [
        {
          "output_type": "execute_result",
          "data": {
            "text/html": [
              "<div>\n",
              "<style scoped>\n",
              "    .dataframe tbody tr th:only-of-type {\n",
              "        vertical-align: middle;\n",
              "    }\n",
              "\n",
              "    .dataframe tbody tr th {\n",
              "        vertical-align: top;\n",
              "    }\n",
              "\n",
              "    .dataframe thead th {\n",
              "        text-align: right;\n",
              "    }\n",
              "</style>\n",
              "<table border=\"1\" class=\"dataframe\">\n",
              "  <thead>\n",
              "    <tr style=\"text-align: right;\">\n",
              "      <th></th>\n",
              "      <th>crim</th>\n",
              "      <th>zn</th>\n",
              "      <th>indus</th>\n",
              "      <th>chas</th>\n",
              "      <th>nox</th>\n",
              "      <th>rm</th>\n",
              "      <th>age</th>\n",
              "      <th>dis</th>\n",
              "      <th>rad</th>\n",
              "      <th>tax</th>\n",
              "      <th>ptratio</th>\n",
              "      <th>b</th>\n",
              "      <th>lstat</th>\n",
              "      <th>medv</th>\n",
              "    </tr>\n",
              "  </thead>\n",
              "  <tbody>\n",
              "    <tr>\n",
              "      <th>count</th>\n",
              "      <td>506.000000</td>\n",
              "      <td>506.000000</td>\n",
              "      <td>506.000000</td>\n",
              "      <td>506.000000</td>\n",
              "      <td>506.000000</td>\n",
              "      <td>506.000000</td>\n",
              "      <td>506.000000</td>\n",
              "      <td>506.000000</td>\n",
              "      <td>506.000000</td>\n",
              "      <td>506.000000</td>\n",
              "      <td>506.000000</td>\n",
              "      <td>506.000000</td>\n",
              "      <td>506.000000</td>\n",
              "      <td>506.000000</td>\n",
              "    </tr>\n",
              "    <tr>\n",
              "      <th>mean</th>\n",
              "      <td>3.613524</td>\n",
              "      <td>11.363636</td>\n",
              "      <td>11.136779</td>\n",
              "      <td>0.069170</td>\n",
              "      <td>0.554695</td>\n",
              "      <td>6.284634</td>\n",
              "      <td>68.574901</td>\n",
              "      <td>3.795043</td>\n",
              "      <td>9.549407</td>\n",
              "      <td>408.237154</td>\n",
              "      <td>18.455534</td>\n",
              "      <td>356.674032</td>\n",
              "      <td>12.653063</td>\n",
              "      <td>22.532806</td>\n",
              "    </tr>\n",
              "    <tr>\n",
              "      <th>std</th>\n",
              "      <td>8.601545</td>\n",
              "      <td>23.322453</td>\n",
              "      <td>6.860353</td>\n",
              "      <td>0.253994</td>\n",
              "      <td>0.115878</td>\n",
              "      <td>0.702617</td>\n",
              "      <td>28.148861</td>\n",
              "      <td>2.105710</td>\n",
              "      <td>8.707259</td>\n",
              "      <td>168.537116</td>\n",
              "      <td>2.164946</td>\n",
              "      <td>91.294864</td>\n",
              "      <td>7.141062</td>\n",
              "      <td>9.197104</td>\n",
              "    </tr>\n",
              "    <tr>\n",
              "      <th>min</th>\n",
              "      <td>0.006320</td>\n",
              "      <td>0.000000</td>\n",
              "      <td>0.460000</td>\n",
              "      <td>0.000000</td>\n",
              "      <td>0.385000</td>\n",
              "      <td>3.561000</td>\n",
              "      <td>2.900000</td>\n",
              "      <td>1.129600</td>\n",
              "      <td>1.000000</td>\n",
              "      <td>187.000000</td>\n",
              "      <td>12.600000</td>\n",
              "      <td>0.320000</td>\n",
              "      <td>1.730000</td>\n",
              "      <td>5.000000</td>\n",
              "    </tr>\n",
              "    <tr>\n",
              "      <th>25%</th>\n",
              "      <td>0.082045</td>\n",
              "      <td>0.000000</td>\n",
              "      <td>5.190000</td>\n",
              "      <td>0.000000</td>\n",
              "      <td>0.449000</td>\n",
              "      <td>5.885500</td>\n",
              "      <td>45.025000</td>\n",
              "      <td>2.100175</td>\n",
              "      <td>4.000000</td>\n",
              "      <td>279.000000</td>\n",
              "      <td>17.400000</td>\n",
              "      <td>375.377500</td>\n",
              "      <td>6.950000</td>\n",
              "      <td>17.025000</td>\n",
              "    </tr>\n",
              "    <tr>\n",
              "      <th>50%</th>\n",
              "      <td>0.256510</td>\n",
              "      <td>0.000000</td>\n",
              "      <td>9.690000</td>\n",
              "      <td>0.000000</td>\n",
              "      <td>0.538000</td>\n",
              "      <td>6.208500</td>\n",
              "      <td>77.500000</td>\n",
              "      <td>3.207450</td>\n",
              "      <td>5.000000</td>\n",
              "      <td>330.000000</td>\n",
              "      <td>19.050000</td>\n",
              "      <td>391.440000</td>\n",
              "      <td>11.360000</td>\n",
              "      <td>21.200000</td>\n",
              "    </tr>\n",
              "    <tr>\n",
              "      <th>75%</th>\n",
              "      <td>3.677082</td>\n",
              "      <td>12.500000</td>\n",
              "      <td>18.100000</td>\n",
              "      <td>0.000000</td>\n",
              "      <td>0.624000</td>\n",
              "      <td>6.623500</td>\n",
              "      <td>94.075000</td>\n",
              "      <td>5.188425</td>\n",
              "      <td>24.000000</td>\n",
              "      <td>666.000000</td>\n",
              "      <td>20.200000</td>\n",
              "      <td>396.225000</td>\n",
              "      <td>16.955000</td>\n",
              "      <td>25.000000</td>\n",
              "    </tr>\n",
              "    <tr>\n",
              "      <th>max</th>\n",
              "      <td>88.976200</td>\n",
              "      <td>100.000000</td>\n",
              "      <td>27.740000</td>\n",
              "      <td>1.000000</td>\n",
              "      <td>0.871000</td>\n",
              "      <td>8.780000</td>\n",
              "      <td>100.000000</td>\n",
              "      <td>12.126500</td>\n",
              "      <td>24.000000</td>\n",
              "      <td>711.000000</td>\n",
              "      <td>22.000000</td>\n",
              "      <td>396.900000</td>\n",
              "      <td>37.970000</td>\n",
              "      <td>50.000000</td>\n",
              "    </tr>\n",
              "  </tbody>\n",
              "</table>\n",
              "</div>"
            ],
            "text/plain": [
              "             crim          zn       indus  ...           b       lstat        medv\n",
              "count  506.000000  506.000000  506.000000  ...  506.000000  506.000000  506.000000\n",
              "mean     3.613524   11.363636   11.136779  ...  356.674032   12.653063   22.532806\n",
              "std      8.601545   23.322453    6.860353  ...   91.294864    7.141062    9.197104\n",
              "min      0.006320    0.000000    0.460000  ...    0.320000    1.730000    5.000000\n",
              "25%      0.082045    0.000000    5.190000  ...  375.377500    6.950000   17.025000\n",
              "50%      0.256510    0.000000    9.690000  ...  391.440000   11.360000   21.200000\n",
              "75%      3.677082   12.500000   18.100000  ...  396.225000   16.955000   25.000000\n",
              "max     88.976200  100.000000   27.740000  ...  396.900000   37.970000   50.000000\n",
              "\n",
              "[8 rows x 14 columns]"
            ]
          },
          "metadata": {
            "tags": []
          },
          "execution_count": 2
        }
      ]
    },
    {
      "cell_type": "code",
      "metadata": {
        "id": "KRjURRK3v_fG",
        "colab_type": "code",
        "colab": {
          "base_uri": "https://localhost:8080/",
          "height": 204
        },
        "outputId": "6d7f75a6-5d2c-4734-ab72-7858b795f8e8"
      },
      "source": [
        "dataset.head()"
      ],
      "execution_count": null,
      "outputs": [
        {
          "output_type": "execute_result",
          "data": {
            "text/html": [
              "<div>\n",
              "<style scoped>\n",
              "    .dataframe tbody tr th:only-of-type {\n",
              "        vertical-align: middle;\n",
              "    }\n",
              "\n",
              "    .dataframe tbody tr th {\n",
              "        vertical-align: top;\n",
              "    }\n",
              "\n",
              "    .dataframe thead th {\n",
              "        text-align: right;\n",
              "    }\n",
              "</style>\n",
              "<table border=\"1\" class=\"dataframe\">\n",
              "  <thead>\n",
              "    <tr style=\"text-align: right;\">\n",
              "      <th></th>\n",
              "      <th>crim</th>\n",
              "      <th>zn</th>\n",
              "      <th>indus</th>\n",
              "      <th>chas</th>\n",
              "      <th>nox</th>\n",
              "      <th>rm</th>\n",
              "      <th>age</th>\n",
              "      <th>dis</th>\n",
              "      <th>rad</th>\n",
              "      <th>tax</th>\n",
              "      <th>ptratio</th>\n",
              "      <th>b</th>\n",
              "      <th>lstat</th>\n",
              "      <th>medv</th>\n",
              "    </tr>\n",
              "  </thead>\n",
              "  <tbody>\n",
              "    <tr>\n",
              "      <th>0</th>\n",
              "      <td>0.00632</td>\n",
              "      <td>18.0</td>\n",
              "      <td>2.31</td>\n",
              "      <td>0</td>\n",
              "      <td>0.538</td>\n",
              "      <td>6.575</td>\n",
              "      <td>65.2</td>\n",
              "      <td>4.0900</td>\n",
              "      <td>1</td>\n",
              "      <td>296</td>\n",
              "      <td>15.3</td>\n",
              "      <td>396.90</td>\n",
              "      <td>4.98</td>\n",
              "      <td>24.0</td>\n",
              "    </tr>\n",
              "    <tr>\n",
              "      <th>1</th>\n",
              "      <td>0.02731</td>\n",
              "      <td>0.0</td>\n",
              "      <td>7.07</td>\n",
              "      <td>0</td>\n",
              "      <td>0.469</td>\n",
              "      <td>6.421</td>\n",
              "      <td>78.9</td>\n",
              "      <td>4.9671</td>\n",
              "      <td>2</td>\n",
              "      <td>242</td>\n",
              "      <td>17.8</td>\n",
              "      <td>396.90</td>\n",
              "      <td>9.14</td>\n",
              "      <td>21.6</td>\n",
              "    </tr>\n",
              "    <tr>\n",
              "      <th>2</th>\n",
              "      <td>0.02729</td>\n",
              "      <td>0.0</td>\n",
              "      <td>7.07</td>\n",
              "      <td>0</td>\n",
              "      <td>0.469</td>\n",
              "      <td>7.185</td>\n",
              "      <td>61.1</td>\n",
              "      <td>4.9671</td>\n",
              "      <td>2</td>\n",
              "      <td>242</td>\n",
              "      <td>17.8</td>\n",
              "      <td>392.83</td>\n",
              "      <td>4.03</td>\n",
              "      <td>34.7</td>\n",
              "    </tr>\n",
              "    <tr>\n",
              "      <th>3</th>\n",
              "      <td>0.03237</td>\n",
              "      <td>0.0</td>\n",
              "      <td>2.18</td>\n",
              "      <td>0</td>\n",
              "      <td>0.458</td>\n",
              "      <td>6.998</td>\n",
              "      <td>45.8</td>\n",
              "      <td>6.0622</td>\n",
              "      <td>3</td>\n",
              "      <td>222</td>\n",
              "      <td>18.7</td>\n",
              "      <td>394.63</td>\n",
              "      <td>2.94</td>\n",
              "      <td>33.4</td>\n",
              "    </tr>\n",
              "    <tr>\n",
              "      <th>4</th>\n",
              "      <td>0.06905</td>\n",
              "      <td>0.0</td>\n",
              "      <td>2.18</td>\n",
              "      <td>0</td>\n",
              "      <td>0.458</td>\n",
              "      <td>7.147</td>\n",
              "      <td>54.2</td>\n",
              "      <td>6.0622</td>\n",
              "      <td>3</td>\n",
              "      <td>222</td>\n",
              "      <td>18.7</td>\n",
              "      <td>396.90</td>\n",
              "      <td>5.33</td>\n",
              "      <td>36.2</td>\n",
              "    </tr>\n",
              "  </tbody>\n",
              "</table>\n",
              "</div>"
            ],
            "text/plain": [
              "      crim    zn  indus  chas    nox  ...  tax  ptratio       b  lstat  medv\n",
              "0  0.00632  18.0   2.31     0  0.538  ...  296     15.3  396.90   4.98  24.0\n",
              "1  0.02731   0.0   7.07     0  0.469  ...  242     17.8  396.90   9.14  21.6\n",
              "2  0.02729   0.0   7.07     0  0.469  ...  242     17.8  392.83   4.03  34.7\n",
              "3  0.03237   0.0   2.18     0  0.458  ...  222     18.7  394.63   2.94  33.4\n",
              "4  0.06905   0.0   2.18     0  0.458  ...  222     18.7  396.90   5.33  36.2\n",
              "\n",
              "[5 rows x 14 columns]"
            ]
          },
          "metadata": {
            "tags": []
          },
          "execution_count": 22
        }
      ]
    },
    {
      "cell_type": "code",
      "metadata": {
        "id": "R9-IErkhqMhH",
        "colab_type": "code",
        "colab": {
          "base_uri": "https://localhost:8080/",
          "height": 272
        },
        "outputId": "7af56912-7ce8-4582-ef82-b922c399c2ee"
      },
      "source": [
        "dataset.isnull().sum()"
      ],
      "execution_count": null,
      "outputs": [
        {
          "output_type": "execute_result",
          "data": {
            "text/plain": [
              "crim       0\n",
              "zn         0\n",
              "indus      0\n",
              "chas       0\n",
              "nox        0\n",
              "rm         0\n",
              "age        0\n",
              "dis        0\n",
              "rad        0\n",
              "tax        0\n",
              "ptratio    0\n",
              "b          0\n",
              "lstat      0\n",
              "medv       0\n",
              "dtype: int64"
            ]
          },
          "metadata": {
            "tags": []
          },
          "execution_count": 3
        }
      ]
    },
    {
      "cell_type": "code",
      "metadata": {
        "id": "2i7Z1jHJqNqd",
        "colab_type": "code",
        "colab": {
          "base_uri": "https://localhost:8080/",
          "height": 255
        },
        "outputId": "16603939-d01b-457e-a9b2-42cc89596b13"
      },
      "source": [
        "dataset.corr()['medv'][:-1]"
      ],
      "execution_count": null,
      "outputs": [
        {
          "output_type": "execute_result",
          "data": {
            "text/plain": [
              "crim      -0.388305\n",
              "zn         0.360445\n",
              "indus     -0.483725\n",
              "chas       0.175260\n",
              "nox       -0.427321\n",
              "rm         0.695360\n",
              "age       -0.376955\n",
              "dis        0.249929\n",
              "rad       -0.381626\n",
              "tax       -0.468536\n",
              "ptratio   -0.507787\n",
              "b          0.333461\n",
              "lstat     -0.737663\n",
              "Name: medv, dtype: float64"
            ]
          },
          "metadata": {
            "tags": []
          },
          "execution_count": 8
        }
      ]
    },
    {
      "cell_type": "code",
      "metadata": {
        "id": "20d2Rhp4qgQU",
        "colab_type": "code",
        "colab": {
          "base_uri": "https://localhost:8080/",
          "height": 1000
        },
        "outputId": "12b6270e-26b0-4f71-825e-24c045fe4c68"
      },
      "source": [
        "corr = dataset.corr()\n",
        "plt.figure(figsize=(20,20))\n",
        "sns.heatmap(corr, cbar=True, square= True, fmt='.1f', annot=True, annot_kws={'size':15}, cmap='Greens')"
      ],
      "execution_count": null,
      "outputs": [
        {
          "output_type": "execute_result",
          "data": {
            "text/plain": [
              "<matplotlib.axes._subplots.AxesSubplot at 0x7f42f6ab3860>"
            ]
          },
          "metadata": {
            "tags": []
          },
          "execution_count": 9
        },
        {
          "output_type": "display_data",
          "data": {
            "image/png": "[encoded data removed]",
            "text/plain": [
              "<Figure size 1440x1440 with 2 Axes>"
            ]
          },
          "metadata": {
            "tags": [],
            "needs_background": "light"
          }
        }
      ]
    },
    {
      "cell_type": "markdown",
      "metadata": {
        "id": "Sh5bRMwItHor",
        "colab_type": "text"
      },
      "source": [
        "### **Standart Scaler**"
      ]
    },
    {
      "cell_type": "code",
      "metadata": {
        "id": "SgOPg6AKq29b",
        "colab_type": "code",
        "colab": {}
      },
      "source": [
        "scaler = preprocessing.StandardScaler()\n",
        "feature_used= dataset.drop(['medv'],axis=1)\n",
        "label = dataset['medv']\n",
        "\n",
        "feature_scaled =scaler.fit_transform(feature_used.values)\n",
        "feature_train, feature_test,label_train, label_test = train_test_split(feature_scaled, label, test_size=0.25,random_state=10)"
      ],
      "execution_count": null,
      "outputs": []
    },
    {
      "cell_type": "code",
      "metadata": {
        "id": "W7mxIej0uEdy",
        "colab_type": "code",
        "colab": {
          "base_uri": "https://localhost:8080/",
          "height": 85
        },
        "outputId": "9fab973c-ffb5-4f28-d946-470d198b1fd2"
      },
      "source": [
        "from sklearn.linear_model import LinearRegression\n",
        "from sklearn.metrics import mean_squared_error, mean_absolute_error, r2_score\n",
        "\n",
        "Linear_reg = LinearRegression()\n",
        "Linear_reg.fit(feature_train, label_train)\n",
        "predictions = Linear_reg.predict(feature_test)\n",
        "\n",
        "mse = mean_squared_error(label_test, predictions)\n",
        "mae = mean_absolute_error(label_test, predictions)\n",
        "r2 = r2_score(label_test, predictions)\n",
        "print(\"MSE (Mean Squared Error)\", mse)\n",
        "print(\"MAE (Mean Absolute Error)\", mae)\n",
        "print(\"r^2 score\", r2)\n",
        "print('RMSE (Root Mean Squared Error', np.sqrt(mean_squared_error(label_test, predictions)))"
      ],
      "execution_count": null,
      "outputs": [
        {
          "output_type": "stream",
          "text": [
            "MSE (Mean Squared Error) 32.44253669600677\n",
            "MAE (Mean Absolute Error) 3.857300907995511\n",
            "r^2 score 0.67455850659494\n",
            "RMSE (Root Mean Squared Error 5.695835030617264\n"
          ],
          "name": "stdout"
        }
      ]
    },
    {
      "cell_type": "markdown",
      "metadata": {
        "id": "d5RUo388wMDl",
        "colab_type": "text"
      },
      "source": [
        "### **Power Transformer Yeo-Johnson**"
      ]
    },
    {
      "cell_type": "code",
      "metadata": {
        "id": "1FD2-p_guz-f",
        "colab_type": "code",
        "colab": {}
      },
      "source": [
        "from sklearn.preprocessing import PowerTransformer\n",
        "\n",
        "PT_yeo = preprocessing.PowerTransformer(method='yeo-johnson')\n",
        "feature_used= dataset.drop(['medv'],axis=1)\n",
        "label = dataset['medv']\n",
        "\n",
        "feature_scaled =PT_yeo.fit_transform(feature_used.values)\n",
        "feature_train, feature_test,label_train, label_test = train_test_split(feature_scaled, label, test_size=0.25,random_state=10)"
      ],
      "execution_count": null,
      "outputs": []
    },
    {
      "cell_type": "code",
      "metadata": {
        "id": "acw0vVdNv3-w",
        "colab_type": "code",
        "colab": {
          "base_uri": "https://localhost:8080/",
          "height": 85
        },
        "outputId": "fb0dd365-5c27-4672-bd52-b9d93fb90813"
      },
      "source": [
        "Linear_reg = LinearRegression()\n",
        "Linear_reg.fit(feature_train, label_train)\n",
        "predictions = Linear_reg.predict(feature_test)\n",
        "\n",
        "mse = mean_squared_error(label_test, predictions)\n",
        "mae = mean_absolute_error(label_test, predictions)\n",
        "r2 = r2_score(label_test, predictions)\n",
        "print(\"MSE (Mean Squared Error)\", mse)\n",
        "print(\"MAE (Mean Absolute Error)\", mae)\n",
        "print(\"r^2 score\", r2)\n",
        "print('RMSE (Root Mean Squared Error', np.sqrt(mean_squared_error(label_test, predictions)))"
      ],
      "execution_count": null,
      "outputs": [
        {
          "output_type": "stream",
          "text": [
            "MSE (Mean Squared Error) 25.3744335774946\n",
            "MAE (Mean Absolute Error) 3.626716061802263\n",
            "r^2 score 0.7454609164768617\n",
            "RMSE (Root Mean Squared Error 5.0373041974348345\n"
          ],
          "name": "stdout"
        }
      ]
    },
    {
      "cell_type": "markdown",
      "metadata": {
        "id": "LrBaMhi4wGYz",
        "colab_type": "text"
      },
      "source": [
        "### **Power Transformer Box-Cox**"
      ]
    },
    {
      "cell_type": "code",
      "metadata": {
        "id": "7962meLgzHcf",
        "colab_type": "code",
        "colab": {}
      },
      "source": [
        "for index in range(len(dataset)):\n",
        "  if dataset.loc[index,'medv'] <= 0:\n",
        "    print('ada')\n",
        "# zn chas"
      ],
      "execution_count": null,
      "outputs": []
    },
    {
      "cell_type": "code",
      "metadata": {
        "id": "DLoxicS1wFiG",
        "colab_type": "code",
        "colab": {}
      },
      "source": [
        "PT_box = preprocessing.PowerTransformer(method='box-cox')\n",
        "feature_used= dataset.drop(['zn','chas','medv'],axis=1)\n",
        "label = dataset['medv']\n",
        "\n",
        "feature_scaled =PT_box.fit_transform(feature_used.values)\n",
        "feature_train, feature_test,label_train, label_test = train_test_split(feature_scaled, label, test_size=0.25,random_state=10)"
      ],
      "execution_count": null,
      "outputs": []
    },
    {
      "cell_type": "code",
      "metadata": {
        "id": "t-MhpHtezLVo",
        "colab_type": "code",
        "colab": {
          "base_uri": "https://localhost:8080/",
          "height": 85
        },
        "outputId": "5ea4217a-11bb-42e3-907b-5ea1a7eb8aaa"
      },
      "source": [
        "Linear_reg = LinearRegression()\n",
        "Linear_reg.fit(feature_train, label_train)\n",
        "predictions = Linear_reg.predict(feature_test)\n",
        "\n",
        "mse = mean_squared_error(label_test, predictions)\n",
        "mae = mean_absolute_error(label_test, predictions)\n",
        "r2 = r2_score(label_test, predictions)\n",
        "print(\"MSE (Mean Squared Error)\", mse)\n",
        "print(\"MAE (Mean Absolute Error)\", mae)\n",
        "print(\"r^2 score\", r2)\n",
        "print('RMSE (Root Mean Squared Error', np.sqrt(mean_squared_error(label_test, predictions)))"
      ],
      "execution_count": null,
      "outputs": [
        {
          "output_type": "stream",
          "text": [
            "MSE (Mean Squared Error) 26.094762040514823\n",
            "MAE (Mean Absolute Error) 3.6515378713366418\n",
            "r^2 score 0.7382350705775698\n",
            "RMSE (Root Mean Squared Error 5.108303244768739\n"
          ],
          "name": "stdout"
        }
      ]
    },
    {
      "cell_type": "markdown",
      "metadata": {
        "id": "MsBk2_Qx2VmO",
        "colab_type": "text"
      },
      "source": [
        "### **Quantile Transformer**"
      ]
    },
    {
      "cell_type": "code",
      "metadata": {
        "id": "ML-t784F2b0u",
        "colab_type": "code",
        "colab": {}
      },
      "source": [
        "from sklearn.preprocessing import QuantileTransformer\n",
        "\n",
        "QT = preprocessing.QuantileTransformer(n_quantiles=100, random_state=1)\n",
        "feature_used= dataset.drop(['medv'],axis=1)\n",
        "label = dataset['medv']\n",
        "\n",
        "feature_scaled =QT.fit_transform(feature_used.values)\n",
        "feature_train, feature_test,label_train, label_test = train_test_split(feature_scaled, label, test_size=0.25,random_state=10)"
      ],
      "execution_count": null,
      "outputs": []
    },
    {
      "cell_type": "code",
      "metadata": {
        "id": "ITpuue8I3BXR",
        "colab_type": "code",
        "colab": {
          "base_uri": "https://localhost:8080/",
          "height": 85
        },
        "outputId": "d2c83b19-f20e-42d5-9b1d-58ca8ca9a7bc"
      },
      "source": [
        "Linear_reg = LinearRegression()\n",
        "Linear_reg.fit(feature_train, label_train)\n",
        "predictions = Linear_reg.predict(feature_test)\n",
        "\n",
        "mse = mean_squared_error(label_test, predictions)\n",
        "mae = mean_absolute_error(label_test, predictions)\n",
        "r2 = r2_score(label_test, predictions)\n",
        "print(\"MSE (Mean Squared Error)\", mse)\n",
        "print(\"MAE (Mean Absolute Error)\", mae)\n",
        "print(\"r^2 score\", r2)\n",
        "print('RMSE (Root Mean Squared Error', np.sqrt(mean_squared_error(label_test, predictions)))"
      ],
      "execution_count": null,
      "outputs": [
        {
          "output_type": "stream",
          "text": [
            "MSE (Mean Squared Error) 29.52190548911803\n",
            "MAE (Mean Absolute Error) 4.0297284379535725\n",
            "r^2 score 0.703856295191486\n",
            "RMSE (Root Mean Squared Error 5.433406435112142\n"
          ],
          "name": "stdout"
        }
      ]
    },
    {
      "cell_type": "markdown",
      "metadata": {
        "id": "zzDz6ahT4ZER",
        "colab_type": "text"
      },
      "source": [
        "### **MinMaxScaler**"
      ]
    },
    {
      "cell_type": "code",
      "metadata": {
        "id": "_JzR3m2h4uV7",
        "colab_type": "code",
        "colab": {}
      },
      "source": [
        "from sklearn.preprocessing import MinMaxScaler\n",
        "\n",
        "MMS = preprocessing.MinMaxScaler()\n",
        "feature_used= dataset.drop(['medv'],axis=1)\n",
        "label = dataset['medv']\n",
        "\n",
        "feature_scaled =MMS.fit_transform(feature_used.values)\n",
        "feature_train, feature_test,label_train, label_test = train_test_split(feature_scaled, label, test_size=0.25,random_state=10)"
      ],
      "execution_count": null,
      "outputs": []
    },
    {
      "cell_type": "code",
      "metadata": {
        "id": "q5kOOUn55I27",
        "colab_type": "code",
        "colab": {
          "base_uri": "https://localhost:8080/",
          "height": 85
        },
        "outputId": "f4567564-2327-4834-eaf5-3ad32aa3890b"
      },
      "source": [
        "Linear_reg = LinearRegression()\n",
        "Linear_reg.fit(feature_train, label_train)\n",
        "predictions = Linear_reg.predict(feature_test)\n",
        "\n",
        "mse = mean_squared_error(label_test, predictions)\n",
        "mae = mean_absolute_error(label_test, predictions)\n",
        "r2 = r2_score(label_test, predictions)\n",
        "print(\"MSE (Mean Squared Error)\", mse)\n",
        "print(\"MAE (Mean Absolute Error)\", mae)\n",
        "print(\"r^2 score\", r2)\n",
        "print('RMSE (Root Mean Squared Error', np.sqrt(mean_squared_error(label_test, predictions)))"
      ],
      "execution_count": null,
      "outputs": [
        {
          "output_type": "stream",
          "text": [
            "MSE (Mean Squared Error) 32.442536696006755\n",
            "MAE (Mean Absolute Error) 3.8573009079955063\n",
            "r^2 score 0.6745585065949401\n",
            "RMSE (Root Mean Squared Error 5.695835030617263\n"
          ],
          "name": "stdout"
        }
      ]
    },
    {
      "cell_type": "markdown",
      "metadata": {
        "id": "SMY9uI065Wtm",
        "colab_type": "text"
      },
      "source": [
        "### **MaxAbsScaler**"
      ]
    },
    {
      "cell_type": "code",
      "metadata": {
        "id": "1k23cRC55jQb",
        "colab_type": "code",
        "colab": {}
      },
      "source": [
        "from sklearn.preprocessing import MaxAbsScaler\n",
        "\n",
        "MAS = preprocessing.MaxAbsScaler()\n",
        "feature_used= dataset.drop(['medv'],axis=1)\n",
        "label = dataset['medv']\n",
        "\n",
        "feature_scaled =MAS.fit_transform(feature_used.values)\n",
        "feature_train, feature_test,label_train, label_test = train_test_split(feature_scaled, label, test_size=0.25,random_state=10)"
      ],
      "execution_count": null,
      "outputs": []
    },
    {
      "cell_type": "code",
      "metadata": {
        "id": "XFlqkwhH6HXA",
        "colab_type": "code",
        "colab": {
          "base_uri": "https://localhost:8080/",
          "height": 85
        },
        "outputId": "4270dbc1-c8f7-4fd9-92d1-f5ae9e7074a4"
      },
      "source": [
        "Linear_reg = LinearRegression()\n",
        "Linear_reg.fit(feature_train, label_train)\n",
        "predictions = Linear_reg.predict(feature_test)\n",
        "\n",
        "mse = mean_squared_error(label_test, predictions)\n",
        "mae = mean_absolute_error(label_test, predictions)\n",
        "r2 = r2_score(label_test, predictions)\n",
        "print(\"MSE (Mean Squared Error)\", mse)\n",
        "print(\"MAE (Mean Absolute Error)\", mae)\n",
        "print(\"r^2 score\", r2)\n",
        "print('RMSE (Root Mean Squared Error', np.sqrt(mean_squared_error(label_test, predictions)))"
      ],
      "execution_count": null,
      "outputs": [
        {
          "output_type": "stream",
          "text": [
            "MSE (Mean Squared Error) 32.44253669600672\n",
            "MAE (Mean Absolute Error) 3.85730090799552\n",
            "r^2 score 0.6745585065949404\n",
            "RMSE (Root Mean Squared Error 5.69583503061726\n"
          ],
          "name": "stdout"
        }
      ]
    },
    {
      "cell_type": "markdown",
      "metadata": {
        "id": "P8ozmp8J6PYU",
        "colab_type": "text"
      },
      "source": [
        "### **Robust Scaler**"
      ]
    },
    {
      "cell_type": "code",
      "metadata": {
        "id": "GNPYpETw6SrN",
        "colab_type": "code",
        "colab": {}
      },
      "source": [
        "from sklearn.preprocessing import RobustScaler\n",
        "\n",
        "\n",
        "RS = preprocessing.RobustScaler()\n",
        "feature_used= dataset.drop(['medv'],axis=1)\n",
        "label = dataset['medv']\n",
        "\n",
        "feature_scaled =RS.fit_transform(feature_used.values)\n",
        "feature_train, feature_test,label_train, label_test = train_test_split(feature_scaled, label, test_size=0.25,random_state=10)"
      ],
      "execution_count": null,
      "outputs": []
    },
    {
      "cell_type": "code",
      "metadata": {
        "id": "B64tDY1Z6ufn",
        "colab_type": "code",
        "colab": {
          "base_uri": "https://localhost:8080/",
          "height": 85
        },
        "outputId": "05350122-7b8e-492d-cc64-b9d8f9077f01"
      },
      "source": [
        "Linear_reg = LinearRegression()\n",
        "Linear_reg.fit(feature_train, label_train)\n",
        "predictions = Linear_reg.predict(feature_test)\n",
        "\n",
        "mse = mean_squared_error(label_test, predictions)\n",
        "mae = mean_absolute_error(label_test, predictions)\n",
        "r2 = r2_score(label_test, predictions)\n",
        "print(\"MSE (Mean Squared Error)\", mse)\n",
        "print(\"MAE (Mean Absolute Error)\", mae)\n",
        "print(\"r^2 score\", r2)\n",
        "print('RMSE (Root Mean Squared Error', np.sqrt(mean_squared_error(label_test, predictions)))"
      ],
      "execution_count": null,
      "outputs": [
        {
          "output_type": "stream",
          "text": [
            "MSE (Mean Squared Error) 32.44253669600672\n",
            "MAE (Mean Absolute Error) 3.857300907995508\n",
            "r^2 score 0.6745585065949404\n",
            "RMSE (Root Mean Squared Error 5.69583503061726\n"
          ],
          "name": "stdout"
        }
      ]
    },
    {
      "cell_type": "markdown",
      "metadata": {
        "id": "bTIuUtfyPILD",
        "colab_type": "text"
      },
      "source": [
        "### **Kesimpulan**"
      ]
    },
    {
      "cell_type": "markdown",
      "metadata": {
        "id": "KdnbkyaQPTlT",
        "colab_type": "text"
      },
      "source": [
        "\n",
        "standartscaler\n",
        "r^2 score 0.67455850659494\n",
        "RMSE (Root Mean Squared Error) 5.695835030617264\n",
        "\n",
        "power transformer yeo-johnson\n",
        "r^2 score 0.7454609164768617\n",
        "RMSE (Root Mean Squared Error) 5.0373041974348345\n",
        "\n",
        "powertransformer box-cox\n",
        "r^2 score 0.7382350705775698\n",
        "RMSE (Root Mean Squared Error) 5.108303244768739\n",
        "\n",
        "quantile transformer\n",
        "r^2 score 0.703856295191486\n",
        "RMSE (Root Mean Squared Error) 5.433406435112142\n",
        "\n",
        "minmaxscaler\n",
        "r^2 score 0.6745585065949401\n",
        "RMSE (Root Mean Squared Error) 5.695835030617263\n",
        "\n",
        "maxabsscaler\n",
        "r^2 score 0.6745585065949404\n",
        "RMSE (Root Mean Squared Error) 5.69583503061726\n",
        "\n",
        "robustscaler\n",
        "r^2 score 0.6745585065949404\n",
        "RMSE (Root Mean Squared Error) 5.69583503061726\n",
        "\n",
        "\n",
        "**Berdasarkan hasil di atas bisa di lihat bahwa power transformer method yeo-johnson memiliki nilai akurasi tertinggi untuk algoritma linear regression ini terjadi karena power transformer mengubah atau menormalkan data menjadi kurva gausian yang lebih baik.**"
      ]
    },
    {
      "cell_type": "markdown",
      "metadata": {
        "id": "1GNP2DXf8JoV",
        "colab_type": "text"
      },
      "source": [
        "## **No. 2 membandingkan hasil r2_score dengan berbagai algoritma**"
      ]
    },
    {
      "cell_type": "code",
      "metadata": {
        "id": "4JhshZWC9Ypk",
        "colab_type": "code",
        "colab": {}
      },
      "source": [
        "PT_yeo = preprocessing.PowerTransformer(method='yeo-johnson')\n",
        "feature_used= dataset.drop(['medv'],axis=1)\n",
        "label = dataset['medv']\n",
        "\n",
        "feature_scaled =PT_yeo.fit_transform(feature_used.values)\n",
        "feature_train, feature_test,label_train, label_test = train_test_split(feature_scaled, label, test_size=0.25,random_state=10)"
      ],
      "execution_count": null,
      "outputs": []
    },
    {
      "cell_type": "markdown",
      "metadata": {
        "id": "mbKc2yEU8-kB",
        "colab_type": "text"
      },
      "source": [
        "### **Random Forest Regressor**"
      ]
    },
    {
      "cell_type": "code",
      "metadata": {
        "id": "kNA922sy9vA0",
        "colab_type": "code",
        "colab": {
          "base_uri": "https://localhost:8080/",
          "height": 351
        },
        "outputId": "328d009a-1418-41c2-e4ba-90a147f3ec70"
      },
      "source": [
        "from sklearn.ensemble import RandomForestRegressor\n",
        "\n",
        "RandomForest_reg = RandomForestRegressor(max_depth=100, random_state=10)\n",
        "RandomForest_reg.fit(feature_train, label_train)\n",
        "predictions = RandomForest_reg.predict(feature_test)\n",
        "\n",
        "mse = mean_squared_error(label_test, predictions)\n",
        "mae = mean_absolute_error(label_test, predictions)\n",
        "r2 = r2_score(label_test, predictions)\n",
        "print(\"MSE (Mean Squared Error)\", mse)\n",
        "print(\"MAE (Mean Absolute Error)\", mae)\n",
        "print(\"r^2 score\", r2)\n",
        "print('RMSE (Root Mean Squared Error', np.sqrt(mean_squared_error(label_test, predictions)))\n",
        "plt.scatter(label_test, predictions)"
      ],
      "execution_count": null,
      "outputs": [
        {
          "output_type": "stream",
          "text": [
            "MSE (Mean Squared Error) 13.357668708661409\n",
            "MAE (Mean Absolute Error) 2.5703149606299207\n",
            "r^2 score 0.8660049399438028\n",
            "RMSE (Root Mean Squared Error 3.6548144561196825\n"
          ],
          "name": "stdout"
        },
        {
          "output_type": "execute_result",
          "data": {
            "text/plain": [
              "<matplotlib.collections.PathCollection at 0x7f42db8e4c18>"
            ]
          },
          "metadata": {
            "tags": []
          },
          "execution_count": 175
        },
        {
          "output_type": "display_data",
          "data": {
            "image/png": "[encoded data removed]",
            "text/plain": [
              "<Figure size 432x288 with 1 Axes>"
            ]
          },
          "metadata": {
            "tags": [],
            "needs_background": "light"
          }
        }
      ]
    },
    {
      "cell_type": "markdown",
      "metadata": {
        "colab_type": "text",
        "id": "uEu5cTHK9IZa"
      },
      "source": [
        "### **XGBoost Regressor**"
      ]
    },
    {
      "cell_type": "code",
      "metadata": {
        "id": "zi80eq8h_lyS",
        "colab_type": "code",
        "colab": {
          "base_uri": "https://localhost:8080/",
          "height": 350
        },
        "outputId": "819df6ec-dbbf-4c5b-9c1a-8608bb3f9d10"
      },
      "source": [
        "import xgboost as xgb\n",
        "\n",
        "xgb_reg = xgb.XGBRegressor(max_depth=3,n_estimators=125,colsample_bytree=1,learning_rate=0.27,objective='reg:squarederror')\n",
        "xgb_reg.fit(feature_train, label_train)\n",
        "predictions = xgb_reg.predict(feature_test)\n",
        "\n",
        "mse = mean_squared_error(label_test, predictions)\n",
        "mae = mean_absolute_error(label_test, predictions)\n",
        "r2 = r2_score(label_test, predictions)\n",
        "print(\"MSE (Mean Squared Error)\", mse)\n",
        "print(\"MAE (Mean Absolute Error)\", mae)\n",
        "print(\"r^2 score\", r2)\n",
        "print('RMSE (Root Mean Squared Error', np.sqrt(mean_squared_error(label_test, predictions)))\n",
        "plt.scatter(label_test, predictions)"
      ],
      "execution_count": null,
      "outputs": [
        {
          "output_type": "stream",
          "text": [
            "MSE (Mean Squared Error) 10.341363249936744\n",
            "MAE (Mean Absolute Error) 2.35166430210504\n",
            "r^2 score 0.8962624676535276\n",
            "RMSE (Root Mean Squared Error 3.2157990064580755\n"
          ],
          "name": "stdout"
        },
        {
          "output_type": "execute_result",
          "data": {
            "text/plain": [
              "<matplotlib.collections.PathCollection at 0x7f42db8cd780>"
            ]
          },
          "metadata": {
            "tags": []
          },
          "execution_count": 176
        },
        {
          "output_type": "display_data",
          "data": {
            "image/png": "[encoded data removed]",
            "text/plain": [
              "<Figure size 432x288 with 1 Axes>"
            ]
          },
          "metadata": {
            "tags": [],
            "needs_background": "light"
          }
        }
      ]
    },
    {
      "cell_type": "markdown",
      "metadata": {
        "colab_type": "text",
        "id": "WssprphB9Ino"
      },
      "source": [
        "### **SVM Regressor**"
      ]
    },
    {
      "cell_type": "code",
      "metadata": {
        "id": "O8UDnF5NEHCk",
        "colab_type": "code",
        "colab": {
          "base_uri": "https://localhost:8080/",
          "height": 605
        },
        "outputId": "e5b6582b-d042-4bb9-ee0c-56ff7da8d80d"
      },
      "source": [
        "from sklearn.svm import SVR\n",
        "kernel=['linear', 'poly', 'rbf', 'sigmoid']\n",
        "for index,value in enumerate(kernel):\n",
        "  reggression = SVR(kernel=value)\n",
        "  reggression.fit(feature_train, label_train)\n",
        "  predictions = reggression.predict(feature_test)\n",
        "\n",
        "  mse = mean_squared_error(label_test, predictions)\n",
        "  mae = mean_absolute_error(label_test, predictions)\n",
        "  r2 = r2_score(label_test, predictions)\n",
        "  print(\"MSE (Mean Squared Error) = {} kernel={}\".format(mse,value))\n",
        "  print(\"MAE (Mean Absolute Error) = {} kernel={}\".format(mae,value))\n",
        "  print(\"r^2 score  = {} kernel={}\".format(r2,value))\n",
        "  print('RMSE (Root Mean Squared Error = {} kernel={} \\n'.format(np.sqrt(mean_squared_error(label_test, predictions)),value))\n",
        "  plt.scatter(label_test, predictions)"
      ],
      "execution_count": null,
      "outputs": [
        {
          "output_type": "stream",
          "text": [
            "MSE (Mean Squared Error) = 30.98534757421151 kernel=linear\n",
            "MAE (Mean Absolute Error) = 3.718253640630241 kernel=linear\n",
            "r^2 score  = 0.6891760381527922 kernel=linear\n",
            "RMSE (Root Mean Squared Error = 5.566448380629385 kernel=linear \n",
            "\n",
            "MSE (Mean Squared Error) = 37.83332363591566 kernel=poly\n",
            "MAE (Mean Absolute Error) = 3.9346973683899784 kernel=poly\n",
            "r^2 score  = 0.620481793396111 kernel=poly\n",
            "RMSE (Root Mean Squared Error = 6.15087990745354 kernel=poly \n",
            "\n",
            "MSE (Mean Squared Error) = 42.783407840231995 kernel=rbf\n",
            "MAE (Mean Absolute Error) = 3.920646095040855 kernel=rbf\n",
            "r^2 score  = 0.570825910718731 kernel=rbf\n",
            "RMSE (Root Mean Squared Error = 6.540902677783243 kernel=rbf \n",
            "\n",
            "MSE (Mean Squared Error) = 51.14224123565428 kernel=sigmoid\n",
            "MAE (Mean Absolute Error) = 5.333987994795184 kernel=sigmoid\n",
            "r^2 score  = 0.4869757713532371 kernel=sigmoid\n",
            "RMSE (Root Mean Squared Error = 7.151380372743033 kernel=sigmoid \n",
            "\n"
          ],
          "name": "stdout"
        },
        {
          "output_type": "display_data",
          "data": {
            "image/png": "[encoded data removed]",
            "text/plain": [
              "<Figure size 432x288 with 1 Axes>"
            ]
          },
          "metadata": {
            "tags": [],
            "needs_background": "light"
          }
        }
      ]
    },
    {
      "cell_type": "markdown",
      "metadata": {
        "colab_type": "text",
        "id": "FIiFfzvo9I2g"
      },
      "source": [
        "### **KNN Regressor**"
      ]
    },
    {
      "cell_type": "code",
      "metadata": {
        "id": "UBBS8VhEMSQG",
        "colab_type": "code",
        "colab": {
          "base_uri": "https://localhost:8080/",
          "height": 945
        },
        "outputId": "de216c09-c53e-4128-96b9-6cdff6f5442c"
      },
      "source": [
        "from sklearn.neighbors import KNeighborsRegressor\n",
        "\n",
        "n=[1,3,5,7,9,11,13,15]\n",
        "for index,value in enumerate(n):\n",
        "  reggression = KNeighborsRegressor(n_neighbors=value)\n",
        "  reggression.fit(feature_train, label_train)\n",
        "  predictions = reggression.predict(feature_test)\n",
        "\n",
        "  mse = mean_squared_error(label_test, predictions)\n",
        "  mae = mean_absolute_error(label_test, predictions)\n",
        "  r2 = r2_score(label_test, predictions)\n",
        "  print(\"MSE (Mean Squared Error) = {} n_neighbors={}\".format(mse,value))\n",
        "  print(\"MAE (Mean Absolute Error) = {} n_neighbors={}\".format(mae,value))\n",
        "  print(\"r^2 score  = {} n_neighbors={}\".format(r2,value))\n",
        "  print('RMSE (Root Mean Squared Error = {} n_neighbors={} \\n'.format(np.sqrt(mean_squared_error(label_test, predictions)),value))\n",
        "  plt.scatter(label_test, predictions)"
      ],
      "execution_count": null,
      "outputs": [
        {
          "output_type": "stream",
          "text": [
            "MSE (Mean Squared Error) = 27.495826771653544 n_neighbors=1\n",
            "MAE (Mean Absolute Error) = 3.2685039370078734 n_neighbors=1\n",
            "r^2 score  = 0.7241805407875158 n_neighbors=1\n",
            "RMSE (Root Mean Squared Error = 5.24364632404337 n_neighbors=1 \n",
            "\n",
            "MSE (Mean Squared Error) = 25.737454068241462 n_neighbors=3\n",
            "MAE (Mean Absolute Error) = 3.2737532808398955 n_neighbors=3\n",
            "r^2 score  = 0.7418193414745027 n_neighbors=3\n",
            "RMSE (Root Mean Squared Error = 5.073209444547057 n_neighbors=3 \n",
            "\n",
            "MSE (Mean Squared Error) = 29.213483464566924 n_neighbors=5\n",
            "MAE (Mean Absolute Error) = 3.4814173228346452 n_neighbors=5\n",
            "r^2 score  = 0.7069501754638409 n_neighbors=5\n",
            "RMSE (Root Mean Squared Error = 5.4049499039831 n_neighbors=5 \n",
            "\n",
            "MSE (Mean Squared Error) = 29.639472923027473 n_neighbors=7\n",
            "MAE (Mean Absolute Error) = 3.456467941507311 n_neighbors=7\n",
            "r^2 score  = 0.7026769385454319 n_neighbors=7\n",
            "RMSE (Root Mean Squared Error = 5.44421462867028 n_neighbors=7 \n",
            "\n",
            "MSE (Mean Squared Error) = 28.70564790512297 n_neighbors=9\n",
            "MAE (Mean Absolute Error) = 3.5520559930008746 n_neighbors=9\n",
            "r^2 score  = 0.7120444368780532 n_neighbors=9\n",
            "RMSE (Root Mean Squared Error = 5.35776519690094 n_neighbors=9 \n",
            "\n",
            "MSE (Mean Squared Error) = 29.820974816164505 n_neighbors=11\n",
            "MAE (Mean Absolute Error) = 3.61832498210451 n_neighbors=11\n",
            "r^2 score  = 0.7008562348282151 n_neighbors=11\n",
            "RMSE (Root Mean Squared Error = 5.46085843216655 n_neighbors=11 \n",
            "\n",
            "MSE (Mean Squared Error) = 31.397445837021845 n_neighbors=13\n",
            "MAE (Mean Absolute Error) = 3.6713506965475466 n_neighbors=13\n",
            "r^2 score  = 0.6850421482743495 n_neighbors=13\n",
            "RMSE (Root Mean Squared Error = 5.603342380849295 n_neighbors=13 \n",
            "\n",
            "MSE (Mean Squared Error) = 32.35665441819772 n_neighbors=15\n",
            "MAE (Mean Absolute Error) = 3.706666666666666 n_neighbors=15\n",
            "r^2 score  = 0.6754200192753169 n_neighbors=15\n",
            "RMSE (Root Mean Squared Error = 5.688290992749731 n_neighbors=15 \n",
            "\n"
          ],
          "name": "stdout"
        },
        {
          "output_type": "display_data",
          "data": {
            "image/png": "[encoded data removed]",
            "text/plain": [
              "<Figure size 432x288 with 1 Axes>"
            ]
          },
          "metadata": {
            "tags": [],
            "needs_background": "light"
          }
        }
      ]
    },
    {
      "cell_type": "markdown",
      "metadata": {
        "id": "G27CZgjeSTGy",
        "colab_type": "text"
      },
      "source": [
        "### **Kesimpulan**"
      ]
    },
    {
      "cell_type": "markdown",
      "metadata": {
        "id": "PBrVAMkwSXZA",
        "colab_type": "text"
      },
      "source": [
        "Berdasarkan hasil diatas dapat di simpulkan bahwa XGBoost memiliki nilai r^2score dan rmse terbaik di bandingkan yang lain."
      ]
    }
  ]
}