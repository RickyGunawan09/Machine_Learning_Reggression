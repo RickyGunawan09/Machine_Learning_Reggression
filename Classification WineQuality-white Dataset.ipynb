{
  "nbformat": 4,
  "nbformat_minor": 0,
  "metadata": {
    "colab": {
      "name": "assignment8_RickyGunawan_Wine_with_Classification.ipynb",
      "provenance": [],
      "collapsed_sections": [],
      "toc_visible": true
    },
    "kernelspec": {
      "name": "python3",
      "display_name": "Python 3"
    }
  },
  "cells": [
    {
      "cell_type": "code",
      "metadata": {
        "id": "ehroymXgUKSS",
        "colab_type": "code",
        "colab": {}
      },
      "source": [
        "import pandas as pd\n",
        "import numpy as np\n",
        "import matplotlib.pyplot as plt\n",
        "import os\n",
        "import seaborn as sns\n",
        "from sklearn import preprocessing\n",
        "from sklearn.model_selection import train_test_split\n",
        "from sklearn.linear_model import LinearRegression\n",
        "from sklearn.metrics import mean_squared_error, mean_absolute_error, r2_score,f1_score, precision_score, recall_score, accuracy_score\n",
        "from sklearn.preprocessing import StandardScaler,PowerTransformer,QuantileTransformer,MinMaxScaler,MaxAbsScaler,RobustScaler\n",
        "from sklearn.ensemble import RandomForestRegressor\n",
        "import xgboost as xgb\n",
        "from sklearn.svm import SVR\n",
        "from sklearn.neighbors import KNeighborsRegressor\n",
        "from sklearn.linear_model import LogisticRegression\n",
        "# Klasifikasi\n",
        "from sklearn.ensemble import RandomForestClassifier\n",
        "from sklearn.metrics import classification_report\n",
        "from sklearn.neighbors import KNeighborsClassifier\n",
        "from sklearn.svm import SVC\n",
        "from sklearn.svm import LinearSVC\n",
        "from sklearn.naive_bayes import GaussianNB,BernoulliNB,CategoricalNB\n",
        "from sklearn.linear_model import LogisticRegression\n",
        "from sklearn.discriminant_analysis import LinearDiscriminantAnalysis\n",
        "from sklearn.tree import DecisionTreeClassifier\n",
        "import xgboost as xgb\n"
      ],
      "execution_count": null,
      "outputs": []
    },
    {
      "cell_type": "markdown",
      "metadata": {
        "id": "hOPvdPQEefXX",
        "colab_type": "text"
      },
      "source": [
        "# **Dataset Wine Quality White**"
      ]
    },
    {
      "cell_type": "code",
      "metadata": {
        "id": "1ormrK9-VCEC",
        "colab_type": "code",
        "colab": {}
      },
      "source": [
        "dataset = pd.read_csv('/content/drive/My Drive/BCML/datasets/winequality-white.csv',delimiter=';')"
      ],
      "execution_count": null,
      "outputs": []
    },
    {
      "cell_type": "code",
      "metadata": {
        "id": "P39HC0reZ5tc",
        "colab_type": "code",
        "colab": {
          "base_uri": "https://localhost:8080/",
          "height": 317
        },
        "outputId": "5aaf2545-60c3-4297-9ad5-9bd91c6efc16"
      },
      "source": [
        "dataset.describe()"
      ],
      "execution_count": null,
      "outputs": [
        {
          "output_type": "execute_result",
          "data": {
            "text/html": [
              "<div>\n",
              "<style scoped>\n",
              "    .dataframe tbody tr th:only-of-type {\n",
              "        vertical-align: middle;\n",
              "    }\n",
              "\n",
              "    .dataframe tbody tr th {\n",
              "        vertical-align: top;\n",
              "    }\n",
              "\n",
              "    .dataframe thead th {\n",
              "        text-align: right;\n",
              "    }\n",
              "</style>\n",
              "<table border=\"1\" class=\"dataframe\">\n",
              "  <thead>\n",
              "    <tr style=\"text-align: right;\">\n",
              "      <th></th>\n",
              "      <th>fixed_acidity</th>\n",
              "      <th>volatile_acidity</th>\n",
              "      <th>citric_acid</th>\n",
              "      <th>residual_sugar</th>\n",
              "      <th>chlorides</th>\n",
              "      <th>free_sulfur_dioxide</th>\n",
              "      <th>total_sulfur_dioxide</th>\n",
              "      <th>density</th>\n",
              "      <th>pH</th>\n",
              "      <th>sulphates</th>\n",
              "      <th>alcohol</th>\n",
              "      <th>quality</th>\n",
              "    </tr>\n",
              "  </thead>\n",
              "  <tbody>\n",
              "    <tr>\n",
              "      <th>count</th>\n",
              "      <td>4898.000000</td>\n",
              "      <td>4898.000000</td>\n",
              "      <td>4898.000000</td>\n",
              "      <td>4898.000000</td>\n",
              "      <td>4898.000000</td>\n",
              "      <td>4898.000000</td>\n",
              "      <td>4898.000000</td>\n",
              "      <td>4898.000000</td>\n",
              "      <td>4898.000000</td>\n",
              "      <td>4898.000000</td>\n",
              "      <td>4898.000000</td>\n",
              "      <td>4898.000000</td>\n",
              "    </tr>\n",
              "    <tr>\n",
              "      <th>mean</th>\n",
              "      <td>6.854788</td>\n",
              "      <td>0.278241</td>\n",
              "      <td>0.334192</td>\n",
              "      <td>6.391415</td>\n",
              "      <td>0.045772</td>\n",
              "      <td>35.308085</td>\n",
              "      <td>138.360657</td>\n",
              "      <td>0.994027</td>\n",
              "      <td>3.188267</td>\n",
              "      <td>0.489847</td>\n",
              "      <td>10.514267</td>\n",
              "      <td>5.877909</td>\n",
              "    </tr>\n",
              "    <tr>\n",
              "      <th>std</th>\n",
              "      <td>0.843868</td>\n",
              "      <td>0.100795</td>\n",
              "      <td>0.121020</td>\n",
              "      <td>5.072058</td>\n",
              "      <td>0.021848</td>\n",
              "      <td>17.007137</td>\n",
              "      <td>42.498065</td>\n",
              "      <td>0.002991</td>\n",
              "      <td>0.151001</td>\n",
              "      <td>0.114126</td>\n",
              "      <td>1.230621</td>\n",
              "      <td>0.885639</td>\n",
              "    </tr>\n",
              "    <tr>\n",
              "      <th>min</th>\n",
              "      <td>3.800000</td>\n",
              "      <td>0.080000</td>\n",
              "      <td>0.000000</td>\n",
              "      <td>0.600000</td>\n",
              "      <td>0.009000</td>\n",
              "      <td>2.000000</td>\n",
              "      <td>9.000000</td>\n",
              "      <td>0.987110</td>\n",
              "      <td>2.720000</td>\n",
              "      <td>0.220000</td>\n",
              "      <td>8.000000</td>\n",
              "      <td>3.000000</td>\n",
              "    </tr>\n",
              "    <tr>\n",
              "      <th>25%</th>\n",
              "      <td>6.300000</td>\n",
              "      <td>0.210000</td>\n",
              "      <td>0.270000</td>\n",
              "      <td>1.700000</td>\n",
              "      <td>0.036000</td>\n",
              "      <td>23.000000</td>\n",
              "      <td>108.000000</td>\n",
              "      <td>0.991723</td>\n",
              "      <td>3.090000</td>\n",
              "      <td>0.410000</td>\n",
              "      <td>9.500000</td>\n",
              "      <td>5.000000</td>\n",
              "    </tr>\n",
              "    <tr>\n",
              "      <th>50%</th>\n",
              "      <td>6.800000</td>\n",
              "      <td>0.260000</td>\n",
              "      <td>0.320000</td>\n",
              "      <td>5.200000</td>\n",
              "      <td>0.043000</td>\n",
              "      <td>34.000000</td>\n",
              "      <td>134.000000</td>\n",
              "      <td>0.993740</td>\n",
              "      <td>3.180000</td>\n",
              "      <td>0.470000</td>\n",
              "      <td>10.400000</td>\n",
              "      <td>6.000000</td>\n",
              "    </tr>\n",
              "    <tr>\n",
              "      <th>75%</th>\n",
              "      <td>7.300000</td>\n",
              "      <td>0.320000</td>\n",
              "      <td>0.390000</td>\n",
              "      <td>9.900000</td>\n",
              "      <td>0.050000</td>\n",
              "      <td>46.000000</td>\n",
              "      <td>167.000000</td>\n",
              "      <td>0.996100</td>\n",
              "      <td>3.280000</td>\n",
              "      <td>0.550000</td>\n",
              "      <td>11.400000</td>\n",
              "      <td>6.000000</td>\n",
              "    </tr>\n",
              "    <tr>\n",
              "      <th>max</th>\n",
              "      <td>14.200000</td>\n",
              "      <td>1.100000</td>\n",
              "      <td>1.660000</td>\n",
              "      <td>65.800000</td>\n",
              "      <td>0.346000</td>\n",
              "      <td>289.000000</td>\n",
              "      <td>440.000000</td>\n",
              "      <td>1.038980</td>\n",
              "      <td>3.820000</td>\n",
              "      <td>1.080000</td>\n",
              "      <td>14.200000</td>\n",
              "      <td>9.000000</td>\n",
              "    </tr>\n",
              "  </tbody>\n",
              "</table>\n",
              "</div>"
            ],
            "text/plain": [
              "       fixed_acidity  volatile_acidity  ...      alcohol      quality\n",
              "count    4898.000000       4898.000000  ...  4898.000000  4898.000000\n",
              "mean        6.854788          0.278241  ...    10.514267     5.877909\n",
              "std         0.843868          0.100795  ...     1.230621     0.885639\n",
              "min         3.800000          0.080000  ...     8.000000     3.000000\n",
              "25%         6.300000          0.210000  ...     9.500000     5.000000\n",
              "50%         6.800000          0.260000  ...    10.400000     6.000000\n",
              "75%         7.300000          0.320000  ...    11.400000     6.000000\n",
              "max        14.200000          1.100000  ...    14.200000     9.000000\n",
              "\n",
              "[8 rows x 12 columns]"
            ]
          },
          "metadata": {
            "tags": []
          },
          "execution_count": 5
        }
      ]
    },
    {
      "cell_type": "code",
      "metadata": {
        "id": "ijpgxkYXV1F_",
        "colab_type": "code",
        "colab": {
          "base_uri": "https://localhost:8080/",
          "height": 224
        },
        "outputId": "9c81d1e8-372e-4d9f-9a5f-5e3691bf7118"
      },
      "source": [
        "dataset.head()"
      ],
      "execution_count": null,
      "outputs": [
        {
          "output_type": "execute_result",
          "data": {
            "text/html": [
              "<div>\n",
              "<style scoped>\n",
              "    .dataframe tbody tr th:only-of-type {\n",
              "        vertical-align: middle;\n",
              "    }\n",
              "\n",
              "    .dataframe tbody tr th {\n",
              "        vertical-align: top;\n",
              "    }\n",
              "\n",
              "    .dataframe thead th {\n",
              "        text-align: right;\n",
              "    }\n",
              "</style>\n",
              "<table border=\"1\" class=\"dataframe\">\n",
              "  <thead>\n",
              "    <tr style=\"text-align: right;\">\n",
              "      <th></th>\n",
              "      <th>fixed_acidity</th>\n",
              "      <th>volatile_acidity</th>\n",
              "      <th>citric_acid</th>\n",
              "      <th>residual_sugar</th>\n",
              "      <th>chlorides</th>\n",
              "      <th>free_sulfur_dioxide</th>\n",
              "      <th>total_sulfur_dioxide</th>\n",
              "      <th>density</th>\n",
              "      <th>pH</th>\n",
              "      <th>sulphates</th>\n",
              "      <th>alcohol</th>\n",
              "      <th>quality</th>\n",
              "    </tr>\n",
              "  </thead>\n",
              "  <tbody>\n",
              "    <tr>\n",
              "      <th>0</th>\n",
              "      <td>7.0</td>\n",
              "      <td>0.27</td>\n",
              "      <td>0.36</td>\n",
              "      <td>20.7</td>\n",
              "      <td>0.045</td>\n",
              "      <td>45.0</td>\n",
              "      <td>170.0</td>\n",
              "      <td>1.0010</td>\n",
              "      <td>3.00</td>\n",
              "      <td>0.45</td>\n",
              "      <td>8.8</td>\n",
              "      <td>6</td>\n",
              "    </tr>\n",
              "    <tr>\n",
              "      <th>1</th>\n",
              "      <td>6.3</td>\n",
              "      <td>0.30</td>\n",
              "      <td>0.34</td>\n",
              "      <td>1.6</td>\n",
              "      <td>0.049</td>\n",
              "      <td>14.0</td>\n",
              "      <td>132.0</td>\n",
              "      <td>0.9940</td>\n",
              "      <td>3.30</td>\n",
              "      <td>0.49</td>\n",
              "      <td>9.5</td>\n",
              "      <td>6</td>\n",
              "    </tr>\n",
              "    <tr>\n",
              "      <th>2</th>\n",
              "      <td>8.1</td>\n",
              "      <td>0.28</td>\n",
              "      <td>0.40</td>\n",
              "      <td>6.9</td>\n",
              "      <td>0.050</td>\n",
              "      <td>30.0</td>\n",
              "      <td>97.0</td>\n",
              "      <td>0.9951</td>\n",
              "      <td>3.26</td>\n",
              "      <td>0.44</td>\n",
              "      <td>10.1</td>\n",
              "      <td>6</td>\n",
              "    </tr>\n",
              "    <tr>\n",
              "      <th>3</th>\n",
              "      <td>7.2</td>\n",
              "      <td>0.23</td>\n",
              "      <td>0.32</td>\n",
              "      <td>8.5</td>\n",
              "      <td>0.058</td>\n",
              "      <td>47.0</td>\n",
              "      <td>186.0</td>\n",
              "      <td>0.9956</td>\n",
              "      <td>3.19</td>\n",
              "      <td>0.40</td>\n",
              "      <td>9.9</td>\n",
              "      <td>6</td>\n",
              "    </tr>\n",
              "    <tr>\n",
              "      <th>4</th>\n",
              "      <td>7.2</td>\n",
              "      <td>0.23</td>\n",
              "      <td>0.32</td>\n",
              "      <td>8.5</td>\n",
              "      <td>0.058</td>\n",
              "      <td>47.0</td>\n",
              "      <td>186.0</td>\n",
              "      <td>0.9956</td>\n",
              "      <td>3.19</td>\n",
              "      <td>0.40</td>\n",
              "      <td>9.9</td>\n",
              "      <td>6</td>\n",
              "    </tr>\n",
              "  </tbody>\n",
              "</table>\n",
              "</div>"
            ],
            "text/plain": [
              "   fixed_acidity  volatile_acidity  citric_acid  ...  sulphates  alcohol  quality\n",
              "0            7.0              0.27         0.36  ...       0.45      8.8        6\n",
              "1            6.3              0.30         0.34  ...       0.49      9.5        6\n",
              "2            8.1              0.28         0.40  ...       0.44     10.1        6\n",
              "3            7.2              0.23         0.32  ...       0.40      9.9        6\n",
              "4            7.2              0.23         0.32  ...       0.40      9.9        6\n",
              "\n",
              "[5 rows x 12 columns]"
            ]
          },
          "metadata": {
            "tags": []
          },
          "execution_count": 6
        }
      ]
    },
    {
      "cell_type": "code",
      "metadata": {
        "id": "9UYAgySIV0-J",
        "colab_type": "code",
        "colab": {
          "base_uri": "https://localhost:8080/",
          "height": 238
        },
        "outputId": "54abd6d6-2512-4f89-9f96-47bfc2b113f4"
      },
      "source": [
        "dataset.isnull().sum()"
      ],
      "execution_count": null,
      "outputs": [
        {
          "output_type": "execute_result",
          "data": {
            "text/plain": [
              "fixed_acidity           0\n",
              "volatile_acidity        0\n",
              "citric_acid             0\n",
              "residual_sugar          0\n",
              "chlorides               0\n",
              "free_sulfur_dioxide     0\n",
              "total_sulfur_dioxide    0\n",
              "density                 0\n",
              "pH                      0\n",
              "sulphates               0\n",
              "alcohol                 0\n",
              "quality                 0\n",
              "dtype: int64"
            ]
          },
          "metadata": {
            "tags": []
          },
          "execution_count": 7
        }
      ]
    },
    {
      "cell_type": "code",
      "metadata": {
        "id": "IEJIM87AWC6O",
        "colab_type": "code",
        "colab": {
          "base_uri": "https://localhost:8080/",
          "height": 221
        },
        "outputId": "c8232073-5b0a-44ec-e3a6-72cc076fac80"
      },
      "source": [
        "dataset.corr()['quality'][:-1]"
      ],
      "execution_count": null,
      "outputs": [
        {
          "output_type": "execute_result",
          "data": {
            "text/plain": [
              "fixed_acidity          -0.113663\n",
              "volatile_acidity       -0.194723\n",
              "citric_acid            -0.009209\n",
              "residual_sugar         -0.097577\n",
              "chlorides              -0.209934\n",
              "free_sulfur_dioxide     0.008158\n",
              "total_sulfur_dioxide   -0.174737\n",
              "density                -0.307123\n",
              "pH                      0.099427\n",
              "sulphates               0.053678\n",
              "alcohol                 0.435575\n",
              "Name: quality, dtype: float64"
            ]
          },
          "metadata": {
            "tags": []
          },
          "execution_count": 8
        }
      ]
    },
    {
      "cell_type": "code",
      "metadata": {
        "id": "kEYhfMumWoGo",
        "colab_type": "code",
        "colab": {
          "base_uri": "https://localhost:8080/",
          "height": 944
        },
        "outputId": "ba19a2a5-effc-4dc9-d854-80e606fc8bd0"
      },
      "source": [
        "corr = dataset.corr()\n",
        "plt.figure(figsize=(20,20))\n",
        "sns.heatmap(corr, cbar=True, square= True, fmt='.1f', annot=True, annot_kws={'size':15}, cmap='Greens')"
      ],
      "execution_count": null,
      "outputs": [
        {
          "output_type": "execute_result",
          "data": {
            "text/plain": [
              "<matplotlib.axes._subplots.AxesSubplot at 0x7f2c0a7334e0>"
            ]
          },
          "metadata": {
            "tags": []
          },
          "execution_count": 9
        },
        {
          "output_type": "display_data",
          "data": {
            "image/png": "[encoded data removed]",
            "text/plain": [
              "<Figure size 1440x1440 with 2 Axes>"
            ]
          },
          "metadata": {
            "tags": [],
            "needs_background": "light"
          }
        }
      ]
    },
    {
      "cell_type": "code",
      "metadata": {
        "id": "hE0M42LVYEPS",
        "colab_type": "code",
        "colab": {}
      },
      "source": [
        "for index in range(len(dataset)):\n",
        "  if dataset.loc[index,'citric_acid'] <= 0:\n",
        "    dataset.loc[index,'citric_acid'] = 0.33\n",
        "    # print('ada')\n"
      ],
      "execution_count": null,
      "outputs": []
    },
    {
      "cell_type": "markdown",
      "metadata": {
        "id": "HMv4jFBLeoed",
        "colab_type": "text"
      },
      "source": [
        "## **No.1**"
      ]
    },
    {
      "cell_type": "code",
      "metadata": {
        "id": "J1WMEmskW_Tm",
        "colab_type": "code",
        "colab": {
          "base_uri": "https://localhost:8080/",
          "height": 782
        },
        "outputId": "33731aaf-f3d5-4c96-8c40-ca030ee5aaf7"
      },
      "source": [
        "scale=[StandardScaler(),PowerTransformer(method='yeo-johnson'),PowerTransformer(method='box-cox'),\n",
        "       QuantileTransformer(n_quantiles=100, random_state=10),MinMaxScaler(),MaxAbsScaler(),RobustScaler()]\n",
        "\n",
        "for index,value in enumerate(scale):\n",
        "  scaler = value\n",
        "  feature_used= dataset.drop(['quality'],axis=1)\n",
        "  label = dataset['quality']\n",
        "  feature_scaled =scaler.fit_transform(feature_used.values)\n",
        "  feature_train, feature_test,label_train, label_test = train_test_split(feature_scaled, label, test_size=0.25,random_state=10)\n",
        "\n",
        "  Linear_reg = LinearRegression()\n",
        "  Linear_reg.fit(feature_train, label_train)\n",
        "  predictions = Linear_reg.predict(feature_test)\n",
        "\n",
        "  mse = mean_squared_error(label_test, predictions)\n",
        "  mae = mean_absolute_error(label_test, predictions)\n",
        "  r2 = r2_score(label_test, predictions)\n",
        "  print(\"\\n{}\".format(value))\n",
        "  print(\"MSE (Mean Squared Error)\", mse)\n",
        "  print(\"MAE (Mean Absolute Error)\", mae)\n",
        "  print(\"r^2 score\", r2)\n",
        "  print('RMSE (Root Mean Squared Error', np.sqrt(mean_squared_error(label_test, predictions)))"
      ],
      "execution_count": null,
      "outputs": [
        {
          "output_type": "stream",
          "text": [
            "\n",
            "StandardScaler(copy=True, with_mean=True, with_std=True)\n",
            "MSE (Mean Squared Error) 0.5548082996403448\n",
            "MAE (Mean Absolute Error) 0.5804277307089775\n",
            "r^2 score 0.28955008495114465\n",
            "RMSE (Root Mean Squared Error 0.7448545493184189\n",
            "\n",
            "PowerTransformer(copy=True, method='yeo-johnson', standardize=True)\n",
            "MSE (Mean Squared Error) 0.553078299702105\n",
            "MAE (Mean Absolute Error) 0.5801977819625543\n",
            "r^2 score 0.29176540564831843\n",
            "RMSE (Root Mean Squared Error 0.7436923421026366\n",
            "\n",
            "PowerTransformer(copy=True, method='box-cox', standardize=True)\n",
            "MSE (Mean Squared Error) 0.5495736675844238\n",
            "MAE (Mean Absolute Error) 0.5799931896296917\n",
            "r^2 score 0.29625320006649514\n",
            "RMSE (Root Mean Squared Error 0.7413323597310614\n",
            "\n",
            "QuantileTransformer(copy=True, ignore_implicit_zeros=False, n_quantiles=100,\n",
            "                    output_distribution='uniform', random_state=10,\n",
            "                    subsample=100000)\n",
            "MSE (Mean Squared Error) 0.549487944578978\n",
            "MAE (Mean Absolute Error) 0.5854684653018515\n",
            "r^2 score 0.2963629711387308\n",
            "RMSE (Root Mean Squared Error 0.7412745406251169\n",
            "\n",
            "MinMaxScaler(copy=True, feature_range=(0, 1))\n",
            "MSE (Mean Squared Error) 0.5548082996403455\n",
            "MAE (Mean Absolute Error) 0.5804277307089775\n",
            "r^2 score 0.28955008495114376\n",
            "RMSE (Root Mean Squared Error 0.7448545493184193\n",
            "\n",
            "MaxAbsScaler(copy=True)\n",
            "MSE (Mean Squared Error) 0.5548082996403396\n",
            "MAE (Mean Absolute Error) 0.5804277307089789\n",
            "r^2 score 0.2895500849511512\n",
            "RMSE (Root Mean Squared Error 0.7448545493184153\n",
            "\n",
            "RobustScaler(copy=True, quantile_range=(25.0, 75.0), with_centering=True,\n",
            "             with_scaling=True)\n",
            "MSE (Mean Squared Error) 0.554808299640345\n",
            "MAE (Mean Absolute Error) 0.5804277307089775\n",
            "r^2 score 0.2895500849511444\n",
            "RMSE (Root Mean Squared Error 0.7448545493184189\n"
          ],
          "name": "stdout"
        }
      ]
    },
    {
      "cell_type": "markdown",
      "metadata": {
        "id": "_MXY5hfXoiz7",
        "colab_type": "text"
      },
      "source": [
        "berdasarkan hasil di atas yang menunjukan kinerja terbaik dalam dataset ini adalah quantile transformer"
      ]
    },
    {
      "cell_type": "markdown",
      "metadata": {
        "id": "AvJ4hlyxeyni",
        "colab_type": "text"
      },
      "source": [
        "## **No.2**"
      ]
    },
    {
      "cell_type": "code",
      "metadata": {
        "id": "S8wTPSoZe4LF",
        "colab_type": "code",
        "colab": {}
      },
      "source": [
        "scaler = preprocessing.QuantileTransformer(n_quantiles=100, random_state=10)\n",
        "feature_used= dataset.drop(['quality'],axis=1)\n",
        "label = dataset['quality']\n",
        "feature_scaled =scaler.fit_transform(feature_used.values)\n",
        "feature_train, feature_test,label_train, label_test = train_test_split(feature_scaled, label, test_size=0.25,random_state=10)"
      ],
      "execution_count": null,
      "outputs": []
    },
    {
      "cell_type": "code",
      "metadata": {
        "id": "_G0pn1IZgIyX",
        "colab_type": "code",
        "colab": {
          "base_uri": "https://localhost:8080/",
          "height": 1000
        },
        "outputId": "86f461d0-a836-45d2-b955-2d32ce10f30e"
      },
      "source": [
        "algorithm =[RandomForestRegressor,xgb.XGBRegressor,SVR,KNeighborsRegressor]\n",
        "n=[1,3,5,7,9,11,13,15]\n",
        "kernel=['linear', 'poly', 'rbf']\n",
        "for index, value in enumerate(algorithm):\n",
        "  if value == RandomForestRegressor:\n",
        "    reg = RandomForestRegressor(max_depth=100, random_state=10)\n",
        "    reg.fit(feature_train, label_train)\n",
        "    predictions = reg.predict(feature_test)\n",
        "  if value == xgb.XGBRegressor:\n",
        "    xgb_reg = xgb.XGBRegressor(max_depth=3,n_estimators=125,colsample_bytree=1,learning_rate=0.27,objective='reg:squarederror')\n",
        "    xgb_reg.fit(feature_train, label_train)\n",
        "    predictions = xgb_reg.predict(feature_test)\n",
        "  if value == SVR:\n",
        "    for i,v in enumerate(kernel):\n",
        "      reggression = SVR(kernel=v)\n",
        "      reggression.fit(feature_train, label_train)\n",
        "      predictions = reggression.predict(feature_test)\n",
        "\n",
        "      mse = mean_squared_error(label_test, predictions)\n",
        "      mae = mean_absolute_error(label_test, predictions)\n",
        "      r2 = r2_score(label_test, predictions)\n",
        "      print('\\n{} kernel={}'.format(value,v))\n",
        "      print(\"MSE (Mean Squared Error) = {} \".format(mse))\n",
        "      print(\"MAE (Mean Absolute Error) = {} \".format(mae))\n",
        "      print(\"r^2 score  = {} \".format(r2))\n",
        "      print('RMSE (Root Mean Squared Error = {}  \\n'.format(np.sqrt(mean_squared_error(label_test, predictions))))\n",
        "      plt.scatter(label_test, predictions)\n",
        "    continue\n",
        "  if value == KNeighborsRegressor:\n",
        "    for i,v in enumerate(n):\n",
        "      reggression = KNeighborsRegressor(n_neighbors=v)\n",
        "      reggression.fit(feature_train, label_train)\n",
        "      predictions = reggression.predict(feature_test)\n",
        "\n",
        "      mse = mean_squared_error(label_test, predictions)\n",
        "      mae = mean_absolute_error(label_test, predictions)\n",
        "      r2 = r2_score(label_test, predictions)\n",
        "      print('\\n{} n_neighbors={}'.format(value,v))\n",
        "      print(\"MSE (Mean Squared Error) = {} \".format(mse))\n",
        "      print(\"MAE (Mean Absolute Error) = {} \".format(mae))\n",
        "      print(\"r^2 score  = {}\".format(r2))\n",
        "      print('RMSE (Root Mean Squared Error = {}\\n'.format(np.sqrt(mean_squared_error(label_test, predictions))))\n",
        "      plt.scatter(label_test, predictions)\n",
        "    continue\n",
        "\n",
        "  mse = mean_squared_error(label_test, predictions)\n",
        "  mae = mean_absolute_error(label_test, predictions)\n",
        "  r2 = r2_score(label_test, predictions)\n",
        "  print('\\n',value)\n",
        "  print(\"\\nMSE (Mean Squared Error)\", mse)\n",
        "  print(\"MAE (Mean Absolute Error)\", mae)\n",
        "  print(\"r^2 score\", r2)\n",
        "  print('RMSE (Root Mean Squared Error', np.sqrt(mean_squared_error(label_test, predictions)))\n",
        "  plt.scatter(label_test, predictions)"
      ],
      "execution_count": null,
      "outputs": [
        {
          "output_type": "stream",
          "text": [
            "\n",
            " <class 'sklearn.ensemble._forest.RandomForestRegressor'>\n",
            "\n",
            "MSE (Mean Squared Error) 0.34928089795918366\n",
            "MAE (Mean Absolute Error) 0.4317306122448979\n",
            "r^2 score 0.5527345491331848\n",
            "RMSE (Root Mean Squared Error 0.5909999136710459\n",
            "\n",
            " <class 'xgboost.sklearn.XGBRegressor'>\n",
            "\n",
            "MSE (Mean Squared Error) 0.44778562744355904\n",
            "MAE (Mean Absolute Error) 0.5183854050538977\n",
            "r^2 score 0.4265960671756306\n",
            "RMSE (Root Mean Squared Error 0.6691678619326835\n",
            "\n",
            "<class 'sklearn.svm._classes.SVR'> kernel=linear\n",
            "MSE (Mean Squared Error) = 0.5552507394870209 \n",
            "MAE (Mean Absolute Error) = 0.5807488748463339 \n",
            "r^2 score  = 0.28898352646294434 \n",
            "RMSE (Root Mean Squared Error = 0.7451514876097483  \n",
            "\n",
            "\n",
            "<class 'sklearn.svm._classes.SVR'> kernel=poly\n",
            "MSE (Mean Squared Error) = 0.5215825947013364 \n",
            "MAE (Mean Absolute Error) = 0.5553819953185789 \n",
            "r^2 score  = 0.33209667134262255 \n",
            "RMSE (Root Mean Squared Error = 0.7222067534309938  \n",
            "\n",
            "\n",
            "<class 'sklearn.svm._classes.SVR'> kernel=rbf\n",
            "MSE (Mean Squared Error) = 0.4825505392278933 \n",
            "MAE (Mean Absolute Error) = 0.5232802722867175 \n",
            "r^2 score  = 0.3820784767937414 \n",
            "RMSE (Root Mean Squared Error = 0.694658577452185  \n",
            "\n",
            "\n",
            "<class 'sklearn.neighbors._regression.KNeighborsRegressor'> n_neighbors=1\n",
            "MSE (Mean Squared Error) = 0.6285714285714286 \n",
            "MAE (Mean Absolute Error) = 0.45714285714285713 \n",
            "r^2 score  = 0.19509402018643607\n",
            "RMSE (Root Mean Squared Error = 0.7928249671720918\n",
            "\n",
            "\n",
            "<class 'sklearn.neighbors._regression.KNeighborsRegressor'> n_neighbors=3\n",
            "MSE (Mean Squared Error) = 0.5387755102040817 \n",
            "MAE (Mean Absolute Error) = 0.524625850340136 \n",
            "r^2 score  = 0.3100805887312309\n",
            "RMSE (Root Mean Squared Error = 0.734013290209436\n",
            "\n",
            "\n",
            "<class 'sklearn.neighbors._regression.KNeighborsRegressor'> n_neighbors=5\n",
            "MSE (Mean Squared Error) = 0.529795918367347 \n",
            "MAE (Mean Absolute Error) = 0.5448163265306123 \n",
            "r^2 score  = 0.3215792455857104\n",
            "RMSE (Root Mean Squared Error = 0.7278708115918284\n",
            "\n",
            "\n",
            "<class 'sklearn.neighbors._regression.KNeighborsRegressor'> n_neighbors=7\n",
            "MSE (Mean Squared Error) = 0.5088713036234901 \n",
            "MAE (Mean Absolute Error) = 0.5428571428571428 \n",
            "r^2 score  = 0.3483738893876145\n",
            "RMSE (Root Mean Squared Error = 0.7133521596122704\n",
            "\n",
            "\n",
            "<class 'sklearn.neighbors._regression.KNeighborsRegressor'> n_neighbors=9\n",
            "MSE (Mean Squared Error) = 0.5033308138070043 \n",
            "MAE (Mean Absolute Error) = 0.5401360544217686 \n",
            "r^2 score  = 0.35546866522640974\n",
            "RMSE (Root Mean Squared Error = 0.7094581127924356\n",
            "\n",
            "\n",
            "<class 'sklearn.neighbors._regression.KNeighborsRegressor'> n_neighbors=11\n",
            "MSE (Mean Squared Error) = 0.49841119919042 \n",
            "MAE (Mean Absolute Error) = 0.5421150278293134 \n",
            "r^2 score  = 0.3617683903543344\n",
            "RMSE (Root Mean Squared Error = 0.7059824354687728\n",
            "\n",
            "\n",
            "<class 'sklearn.neighbors._regression.KNeighborsRegressor'> n_neighbors=13\n",
            "MSE (Mean Squared Error) = 0.5025190194420964 \n",
            "MAE (Mean Absolute Error) = 0.5481946624803767 \n",
            "r^2 score  = 0.35650819408342194\n",
            "RMSE (Root Mean Squared Error = 0.7088857590910516\n",
            "\n",
            "\n",
            "<class 'sklearn.neighbors._regression.KNeighborsRegressor'> n_neighbors=15\n",
            "MSE (Mean Squared Error) = 0.5015473922902495 \n",
            "MAE (Mean Absolute Error) = 0.5471020408163265 \n",
            "r^2 score  = 0.35775239397721637\n",
            "RMSE (Root Mean Squared Error = 0.7082001075192303\n",
            "\n"
          ],
          "name": "stdout"
        },
        {
          "output_type": "display_data",
          "data": {
            "image/png": "[encoded data removed]",
            "text/plain": [
              "<Figure size 432x288 with 1 Axes>"
            ]
          },
          "metadata": {
            "tags": [],
            "needs_background": "light"
          }
        }
      ]
    },
    {
      "cell_type": "markdown",
      "metadata": {
        "id": "FH8mbPwbo0rp",
        "colab_type": "text"
      },
      "source": [
        "menurut hasil di atas yang terbaik adalah random forest. jika di lihat mengapa bisa jelek semua ? ini di karenakan data yang kita olah merupakan data yang target nya itu bisa merupakan klasifikasi. maka dari itu jika di lihat pada gambar sebaran datanya tidak menunjukan diagonal. maka dari itu akurasi yang di dapat kan sangat kurang."
      ]
    },
    {
      "cell_type": "markdown",
      "metadata": {
        "id": "r7SWpyrs3zOt",
        "colab_type": "text"
      },
      "source": [
        "## **Test Klasifikasi**"
      ]
    },
    {
      "cell_type": "code",
      "metadata": {
        "id": "qcef0zb7Estr",
        "colab_type": "code",
        "colab": {
          "base_uri": "https://localhost:8080/",
          "height": 421
        },
        "outputId": "5d99ecf9-b7b7-4bb0-c7db-11771453d4c3"
      },
      "source": [
        "classifier = LogisticRegression(max_iter=500)\n",
        "classifier.fit(feature_train, label_train)\n",
        "predictions = classifier.predict(feature_test)\n",
        "\n",
        "print('Accuracy of {} on test set: {:.2f}'.format('Logistik Regression',classifier.score(feature_test, label_test))) # .score() -> Accuracy\n",
        "print(f1_score(label_test, predictions, average='macro'))\n",
        "print(precision_score(label_test, predictions, average='macro'))\n",
        "print(recall_score(label_test, predictions, average='macro'),'\\n')\n",
        "plt.scatter(label_test, predictions)"
      ],
      "execution_count": null,
      "outputs": [
        {
          "output_type": "stream",
          "text": [
            "Accuracy of Logistik Regression on test set: 0.53\n",
            "0.2072257182863228\n",
            "0.22586632679446134\n",
            "0.21242179243137474 \n",
            "\n"
          ],
          "name": "stdout"
        },
        {
          "output_type": "stream",
          "text": [
            "/usr/local/lib/python3.6/dist-packages/sklearn/metrics/_classification.py:1272: UndefinedMetricWarning: Precision is ill-defined and being set to 0.0 in labels with no predicted samples. Use `zero_division` parameter to control this behavior.\n",
            "  _warn_prf(average, modifier, msg_start, len(result))\n"
          ],
          "name": "stderr"
        },
        {
          "output_type": "execute_result",
          "data": {
            "text/plain": [
              "<matplotlib.collections.PathCollection at 0x7f2c04c7f080>"
            ]
          },
          "metadata": {
            "tags": []
          },
          "execution_count": 14
        },
        {
          "output_type": "display_data",
          "data": {
            "image/png": "[encoded data removed]",
            "text/plain": [
              "<Figure size 432x288 with 1 Axes>"
            ]
          },
          "metadata": {
            "tags": [],
            "needs_background": "light"
          }
        }
      ]
    },
    {
      "cell_type": "code",
      "metadata": {
        "id": "dhNmlXsX4Pcq",
        "colab_type": "code",
        "colab": {
          "base_uri": "https://localhost:8080/",
          "height": 1000
        },
        "outputId": "f6bc93ff-73f8-469b-9001-f270156d7442"
      },
      "source": [
        "algoritma=[RandomForestClassifier,KNeighborsClassifier,SVC,LinearSVC,GaussianNB,BernoulliNB,LogisticRegression,LinearDiscriminantAnalysis,DecisionTreeClassifier,xgb.XGBClassifier]\n",
        "\n",
        "for index,value in enumerate(algoritma):\n",
        "  if value == RandomForestClassifier:\n",
        "    classifier = value(n_estimators=5, bootstrap=True, max_features = \"sqrt\")\n",
        "    classifier.fit(feature_train, label_train)\n",
        "  elif value == KNeighborsClassifier:\n",
        "    classifier = value(13)\n",
        "    classifier.fit(feature_train, label_train)\n",
        "  elif value == SVC:\n",
        "    kernels=[\"linear\",\"poly\",\"rbf\"]\n",
        "    for index,value_ker in enumerate(kernels):\n",
        "      svc_classifier = SVC(kernel = value_ker)\n",
        "      svc_classifier.fit(feature_train, label_train)\n",
        "      # prediction\n",
        "      prediction = svc_classifier.predict(feature_test)\n",
        "      #hasil\n",
        "      print('Accuracy of SVC with Kernel {} on test set: {:.2f}'.format(value_ker,svc_classifier.score(feature_test, label_test))) # .score() -> Accuracy\n",
        "      print(f1_score(label_test, prediction, average='macro'))\n",
        "      print(precision_score(label_test, prediction, average='macro'))\n",
        "      print(recall_score(label_test, prediction, average='macro'),'\\n')\n",
        "    continue\n",
        "  elif value == xgb.XGBClassifier:\n",
        "    classifier = value(n_estimators=5,learning_rate=0.1,colsample_bytree=0.3,max_depth=5)\n",
        "    classifier.fit(feature_train, label_train)\n",
        "  else:\n",
        "    classifier = value()\n",
        "    classifier.fit(feature_train, label_train)\n",
        "  \n",
        "  # prediction\n",
        "  prediction = classifier.predict(feature_test)\n",
        "  #hasil\n",
        "  print('Accuracy of {} on test set: {:.2f}'.format(value,classifier.score(feature_test, label_test))) # .score() -> Accuracy\n",
        "  print(f1_score(label_test, prediction, average='macro'))\n",
        "  print(precision_score(label_test, prediction, average='macro'))\n",
        "  print(recall_score(label_test, prediction, average='macro'),'\\n')\n",
        "  plt.scatter(label_test, predictions)"
      ],
      "execution_count": null,
      "outputs": [
        {
          "output_type": "stream",
          "text": [
            "Accuracy of <class 'sklearn.ensemble._forest.RandomForestClassifier'> on test set: 0.64\n",
            "0.3862170497379208\n",
            "0.4413724405862771\n",
            "0.3599773589208825 \n",
            "\n"
          ],
          "name": "stdout"
        },
        {
          "output_type": "stream",
          "text": [
            "/usr/local/lib/python3.6/dist-packages/sklearn/metrics/_classification.py:1272: UndefinedMetricWarning: Precision is ill-defined and being set to 0.0 in labels with no predicted samples. Use `zero_division` parameter to control this behavior.\n",
            "  _warn_prf(average, modifier, msg_start, len(result))\n"
          ],
          "name": "stderr"
        },
        {
          "output_type": "stream",
          "text": [
            "Accuracy of <class 'sklearn.neighbors._classification.KNeighborsClassifier'> on test set: 0.53\n",
            "0.2263268619088706\n",
            "0.2230001613629222\n",
            "0.2316116476291757 \n",
            "\n"
          ],
          "name": "stdout"
        },
        {
          "output_type": "stream",
          "text": [
            "/usr/local/lib/python3.6/dist-packages/sklearn/metrics/_classification.py:1272: UndefinedMetricWarning: Precision is ill-defined and being set to 0.0 in labels with no predicted samples. Use `zero_division` parameter to control this behavior.\n",
            "  _warn_prf(average, modifier, msg_start, len(result))\n"
          ],
          "name": "stderr"
        },
        {
          "output_type": "stream",
          "text": [
            "Accuracy of SVC with Kernel linear on test set: 0.52\n",
            "0.167099173911163\n",
            "0.15219974309569687\n",
            "0.19200667279898972 \n",
            "\n"
          ],
          "name": "stdout"
        },
        {
          "output_type": "stream",
          "text": [
            "/usr/local/lib/python3.6/dist-packages/sklearn/metrics/_classification.py:1272: UndefinedMetricWarning: Precision is ill-defined and being set to 0.0 in labels with no predicted samples. Use `zero_division` parameter to control this behavior.\n",
            "  _warn_prf(average, modifier, msg_start, len(result))\n"
          ],
          "name": "stderr"
        },
        {
          "output_type": "stream",
          "text": [
            "Accuracy of SVC with Kernel poly on test set: 0.56\n",
            "0.2658887409869393\n",
            "0.37897982229578886\n",
            "0.25141838496238555 \n",
            "\n",
            "Accuracy of SVC with Kernel rbf on test set: 0.56\n",
            "0.2265208740276688\n",
            "0.23927703085244983\n",
            "0.22974339115414383 \n",
            "\n"
          ],
          "name": "stdout"
        },
        {
          "output_type": "stream",
          "text": [
            "/usr/local/lib/python3.6/dist-packages/sklearn/metrics/_classification.py:1272: UndefinedMetricWarning: Precision is ill-defined and being set to 0.0 in labels with no predicted samples. Use `zero_division` parameter to control this behavior.\n",
            "  _warn_prf(average, modifier, msg_start, len(result))\n"
          ],
          "name": "stderr"
        },
        {
          "output_type": "stream",
          "text": [
            "Accuracy of <class 'sklearn.svm._classes.LinearSVC'> on test set: 0.53\n",
            "0.19930199123583617\n",
            "0.23908720616381215\n",
            "0.2081367751806331 \n",
            "\n",
            "Accuracy of <class 'sklearn.naive_bayes.GaussianNB'> on test set: 0.48\n",
            "0.221219739286561\n",
            "0.23309386211766073\n",
            "0.23401557932590075 \n",
            "\n",
            "Accuracy of <class 'sklearn.naive_bayes.BernoulliNB'> on test set: 0.44\n",
            "0.08892043788317365\n",
            "0.2058170774442238\n",
            "0.1436210847975554 \n",
            "\n"
          ],
          "name": "stdout"
        },
        {
          "output_type": "stream",
          "text": [
            "/usr/local/lib/python3.6/dist-packages/sklearn/metrics/_classification.py:1272: UndefinedMetricWarning: Precision is ill-defined and being set to 0.0 in labels with no predicted samples. Use `zero_division` parameter to control this behavior.\n",
            "  _warn_prf(average, modifier, msg_start, len(result))\n",
            "/usr/local/lib/python3.6/dist-packages/sklearn/metrics/_classification.py:1272: UndefinedMetricWarning: Precision is ill-defined and being set to 0.0 in labels with no predicted samples. Use `zero_division` parameter to control this behavior.\n",
            "  _warn_prf(average, modifier, msg_start, len(result))\n",
            "/usr/local/lib/python3.6/dist-packages/sklearn/metrics/_classification.py:1272: UndefinedMetricWarning: Precision is ill-defined and being set to 0.0 in labels with no predicted samples. Use `zero_division` parameter to control this behavior.\n",
            "  _warn_prf(average, modifier, msg_start, len(result))\n",
            "/usr/local/lib/python3.6/dist-packages/sklearn/linear_model/_logistic.py:940: ConvergenceWarning: lbfgs failed to converge (status=1):\n",
            "STOP: TOTAL NO. of ITERATIONS REACHED LIMIT.\n",
            "\n",
            "Increase the number of iterations (max_iter) or scale the data as shown in:\n",
            "    https://scikit-learn.org/stable/modules/preprocessing.html\n",
            "Please also refer to the documentation for alternative solver options:\n",
            "    https://scikit-learn.org/stable/modules/linear_model.html#logistic-regression\n",
            "  extra_warning_msg=_LOGISTIC_SOLVER_CONVERGENCE_MSG)\n",
            "/usr/local/lib/python3.6/dist-packages/sklearn/metrics/_classification.py:1272: UndefinedMetricWarning: Precision is ill-defined and being set to 0.0 in labels with no predicted samples. Use `zero_division` parameter to control this behavior.\n",
            "  _warn_prf(average, modifier, msg_start, len(result))\n",
            "/usr/local/lib/python3.6/dist-packages/sklearn/metrics/_classification.py:1272: UndefinedMetricWarning: Precision is ill-defined and being set to 0.0 in labels with no predicted samples. Use `zero_division` parameter to control this behavior.\n",
            "  _warn_prf(average, modifier, msg_start, len(result))\n",
            "/usr/local/lib/python3.6/dist-packages/sklearn/metrics/_classification.py:1272: UndefinedMetricWarning: Precision is ill-defined and being set to 0.0 in labels with no predicted samples. Use `zero_division` parameter to control this behavior.\n",
            "  _warn_prf(average, modifier, msg_start, len(result))\n"
          ],
          "name": "stderr"
        },
        {
          "output_type": "stream",
          "text": [
            "Accuracy of <class 'sklearn.linear_model._logistic.LogisticRegression'> on test set: 0.53\n",
            "0.20861805969292355\n",
            "0.2280282190202049\n",
            "0.21332744850313312 \n",
            "\n",
            "Accuracy of <class 'sklearn.discriminant_analysis.LinearDiscriminantAnalysis'> on test set: 0.53\n",
            "0.24977557013566234\n",
            "0.2754936930457542\n",
            "0.24318872036613842 \n",
            "\n",
            "Accuracy of <class 'sklearn.tree._classes.DecisionTreeClassifier'> on test set: 0.61\n",
            "0.3918436717911759\n",
            "0.3919594937204752\n",
            "0.39225949627329904 \n",
            "\n",
            "Accuracy of <class 'xgboost.sklearn.XGBClassifier'> on test set: 0.53\n",
            "0.1768661440258576\n",
            "0.24788210290459167\n",
            "0.1951203986340911 \n",
            "\n"
          ],
          "name": "stdout"
        },
        {
          "output_type": "display_data",
          "data": {
            "image/png": "[encoded data removed]",
            "text/plain": [
              "<Figure size 432x288 with 1 Axes>"
            ]
          },
          "metadata": {
            "tags": [],
            "needs_background": "light"
          }
        }
      ]
    }
  ]
}